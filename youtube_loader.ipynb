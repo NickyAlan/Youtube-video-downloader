{
 "cells": [
  {
   "cell_type": "code",
   "execution_count": 403,
   "metadata": {},
   "outputs": [],
   "source": [
    "from pytube import YouTube\n",
    "from pytube import Playlist\n",
    "from pytube import Channel\n",
    "import os\n",
    "import re"
   ]
  },
  {
   "cell_type": "code",
   "execution_count": 325,
   "metadata": {},
   "outputs": [],
   "source": [
    "def input_url(URL = 'https://www.youtube.com/watch?v=DYzT-Pk6Ogw'):\n",
    "    yt = YouTube(URL)\n",
    "    title = yt.title\n",
    "    print(f'!Download : {title}')\n",
    "    return yt, title"
   ]
  },
  {
   "cell_type": "code",
   "execution_count": 326,
   "metadata": {},
   "outputs": [
    {
     "name": "stdout",
     "output_type": "stream",
     "text": [
      "!Download : It do go down\n"
     ]
    }
   ],
   "source": [
    "yt, title = input_url()"
   ]
  },
  {
   "cell_type": "markdown",
   "metadata": {},
   "source": [
    "> Average bitrate (ABR) refers to the average amount of data transferred per unit of time, usually measured per second, commonly for digital music or video. An MP3 file, for example, that has an average bit rate of 128 kbit/s transfers, on average, 128,000 bits every second.\n",
    "\n",
    "> which is progressive (video with audio)"
   ]
  },
  {
   "cell_type": "code",
   "execution_count": 320,
   "metadata": {},
   "outputs": [],
   "source": [
    "def get_itag(yt=yt) :\n",
    "    tag_audio = list(yt.streams.filter(only_audio=True))\n",
    "    tag_video = list(yt.streams.filter(file_extension='mp4'))\n",
    "\n",
    "    audio_itag = {}\n",
    "    video_itag = {}\n",
    "    video_itag_nosound = {}\n",
    "    all_res = []\n",
    "\n",
    "    i = 1\n",
    "    for stream in tag_audio :\n",
    "        stream = f'{stream}'\n",
    "        stream = stream.split(' ')\n",
    "        itag, abr = stream[1], stream[3]\n",
    "        itag_num = itag.split('\"')[1]\n",
    "        abr_num = abr.split('\"')[1]\n",
    "        \n",
    "        audio_itag[i] = {abr_num:itag_num}\n",
    "        i+=1\n",
    "\n",
    "    j = 1\n",
    "    for stream in tag_video :\n",
    "        stream = f'{stream}'\n",
    "        stream = stream.split(' ')\n",
    "        itag, res, fps, pro = stream[1], stream[3], stream[4], stream[-2]\n",
    "\n",
    "        if 'True' in pro:\n",
    "            if 'res' in res :\n",
    "                itag_num = itag.split('\"')[1]\n",
    "                res_num = res.split('\"')[1]\n",
    "                fps_num = fps.split('\"')[1]\n",
    "                \n",
    "                video_itag[j] = {f'{res_num}-{fps_num}':itag_num}\n",
    "                j+=1\n",
    "        \n",
    "        else :\n",
    "            if 'res' in res :\n",
    "                if res not in all_res :\n",
    "                    all_res.append(res)\n",
    "\n",
    "                    itag_num = itag.split('\"')[1]\n",
    "                    res_num = res.split('\"')[1]\n",
    "                    fps_num = fps.split('\"')[1]\n",
    "\n",
    "                    video_itag_nosound[j] = {f'no-sound-{res_num}-{fps_num}':itag_num}\n",
    "                    j+=1\n",
    "\n",
    "    return audio_itag , video_itag, video_itag_nosound"
   ]
  },
  {
   "cell_type": "code",
   "execution_count": 321,
   "metadata": {},
   "outputs": [],
   "source": [
    "audio_itag , video_itag, video_itag_nosound = get_itag(yt)"
   ]
  },
  {
   "cell_type": "code",
   "execution_count": 315,
   "metadata": {},
   "outputs": [],
   "source": [
    "def show_choice_audio_only(audio_itag=audio_itag):\n",
    "    target = 'audio only'\n",
    "    print(f'> choice of {target}')\n",
    "    for index in range(len(audio_itag)):\n",
    "        for abr, itag in audio_itag[index+1].items() :\n",
    "            print(f' {index+1}. abr = {abr}')"
   ]
  },
  {
   "cell_type": "code",
   "execution_count": 322,
   "metadata": {},
   "outputs": [],
   "source": [
    "def show_choice_video(video_itag=video_itag, video_itag_nosound=video_itag_nosound):\n",
    "    target = 'videos'\n",
    "    print(f'> choice of {target}')\n",
    "\n",
    "    for index in range(len(video_itag)):\n",
    "        for res_fps, itag in video_itag[index+1].items() :\n",
    "            print(f' {index+1}. res = {res_fps}')\n",
    "        \n",
    "    for index in range(len(video_itag_nosound)):\n",
    "        for res_fps, itag in video_itag_nosound[index+len(video_itag)+1].items() :\n",
    "            print(f' {index+1+len(video_itag)}. res = {res_fps}')"
   ]
  },
  {
   "cell_type": "code",
   "execution_count": 327,
   "metadata": {},
   "outputs": [
    {
     "name": "stdout",
     "output_type": "stream",
     "text": [
      "It do go down\n",
      "> choice of audio only\n",
      " 1. abr = 48kbps\n",
      " 2. abr = 128kbps\n",
      " 3. abr = 50kbps\n",
      " 4. abr = 70kbps\n",
      " 5. abr = 160kbps\n",
      "> choice of videos\n",
      " 1. res = 360p-30fps\n",
      " 2. res = no-sound-480p-30fps\n",
      " 3. res = no-sound-360p-30fps\n",
      " 4. res = no-sound-240p-30fps\n",
      " 5. res = no-sound-144p-30fps\n"
     ]
    }
   ],
   "source": [
    "print(title)\n",
    "show_choice_audio_only(audio_itag), \n",
    "show_choice_video(video_itag,video_itag_nosound)"
   ]
  },
  {
   "cell_type": "code",
   "execution_count": 336,
   "metadata": {},
   "outputs": [
    {
     "data": {
      "text/plain": [
       "dict_items([('no-sound-480p-30fps', '135')])"
      ]
     },
     "execution_count": 336,
     "metadata": {},
     "output_type": "execute_result"
    }
   ],
   "source": [
    "video_itag_nosound[2].items()"
   ]
  },
  {
   "cell_type": "code",
   "execution_count": 440,
   "metadata": {},
   "outputs": [],
   "source": [
    "def create_dir(specific=''):\n",
    "    folder_name = 'Youtube_download'\n",
    "    desktop = os.path.join(os.path.join(os.environ['USERPROFILE']), 'Desktop') \n",
    "    PATH = f'{desktop}\\\\{folder_name}\\\\{specific}'\n",
    "    os.makedirs(PATH, exist_ok = True)\n",
    "    return PATH"
   ]
  },
  {
   "cell_type": "code",
   "execution_count": 370,
   "metadata": {},
   "outputs": [],
   "source": [
    "PATH = create_dir()"
   ]
  },
  {
   "cell_type": "code",
   "execution_count": 441,
   "metadata": {},
   "outputs": [
    {
     "data": {
      "text/plain": [
       "139"
      ]
     },
     "execution_count": 441,
     "metadata": {},
     "output_type": "execute_result"
    }
   ],
   "source": [
    "itag = int(list(audio_itag[1].values())[0])\n",
    "itag"
   ]
  },
  {
   "cell_type": "code",
   "execution_count": 447,
   "metadata": {},
   "outputs": [],
   "source": [
    "def download_by_itag(PATH,itag=itag,type='mp4',yt=None,title=None):\n",
    "    stream = yt.streams.get_by_itag(itag)\n",
    "    stream.download(PATH,f'{title}.{type}')\n"
   ]
  },
  {
   "cell_type": "markdown",
   "metadata": {},
   "source": [
    "path can't using \\/:*?\"<>|"
   ]
  },
  {
   "cell_type": "code",
   "execution_count": 448,
   "metadata": {},
   "outputs": [],
   "source": [
    "def clean_path(title):\n",
    "    save_title = str(title)\n",
    "    to_replace = {'/':'',':':'','*':'','?':'','\"':'','<':'','>':'','|':''}\n",
    "    save_title = re.sub(r'[\\/:*?\"<>|]', lambda x:to_replace[x.group(0)],save_title)\n",
    "    return save_title"
   ]
  },
  {
   "cell_type": "code",
   "execution_count": 470,
   "metadata": {},
   "outputs": [],
   "source": [
    "def single_video_download(URL=None):\n",
    "    '''\n",
    "    download a single video from youtube URL\n",
    "    '''\n",
    "    \n",
    "    yt, title = input_url(URL)\n",
    "\n",
    "    audio_itag , video_itag, video_itag_nosound = get_itag(yt)\n",
    "    \n",
    "    type = input('what do you want ?\\n 1. audio only\\n 2. video\\n :')\n",
    "\n",
    "    save_title = clean_path(title) \n",
    "    \n",
    "    if type == '1' :\n",
    "        print('\\nwhich quality you want? (select only one)')\n",
    "        show_choice_audio_only(audio_itag)\n",
    "        qt = int(input(' :'))\n",
    "        \n",
    "        itag = int(list(audio_itag[qt].values())[0])\n",
    "        \n",
    "        PATH = create_dir()\n",
    "        print(f'\\ndownloading.. {title}')\n",
    "\n",
    "\n",
    "        download_by_itag(PATH,itag,'mp3',yt,save_title)\n",
    "        print(f'download {title} successfully!! check in folder Youtube_download on your Desktop')\n",
    "    \n",
    "    else :\n",
    "        print('\\nwhich quality you want?')\n",
    "        show_choice_video(video_itag,video_itag_nosound)\n",
    "        qt = int(input(' :'))\n",
    "        \n",
    "        if qt <= len(video_itag):\n",
    "            itag = int(list(video_itag[qt].values())[0])\n",
    "        else:\n",
    "            itag = int(list(video_itag_nosound[qt].values())[0])\n",
    "        \n",
    "        PATH = create_dir()\n",
    "        print(f'\\ndownloading.. {title}')\n",
    "        download_by_itag(PATH,itag,'mp4',yt,save_title)\n",
    "        print(f'download {title} successfully!! check in folder Youtube_download on your Desktop')\n",
    "        "
   ]
  },
  {
   "cell_type": "code",
   "execution_count": 471,
   "metadata": {},
   "outputs": [],
   "source": [
    "def multi_video_download(URL=None,num_videos=0,recenly=True):\n",
    "    '''\n",
    "    using URL from the playlist or Channel to download videos\n",
    "    : if using URL from playlist recenly=True mean from the top to bottom\n",
    "    : if using URl from Channel recenly=True mean recenly videos\n",
    "    '''\n",
    "    URLs = []\n",
    "    \n",
    "    try :\n",
    "        p = Playlist(URL)\n",
    "        print(f'!Download from {p.title}')\n",
    "        folder_name = p.title\n",
    "\n",
    "        if recenly :\n",
    "            for URL in p.video_urls[:num_videos]:\n",
    "                URLs.append(URL) \n",
    "        else :\n",
    "            for URL in p.video_urls:\n",
    "                URLs.append(URL)\n",
    "            URLs = URLs[::-1]\n",
    "            URLs = URLs[:num_videos]\n",
    "        \n",
    "    except :\n",
    "        c = Channel(URL)\n",
    "        print(f'!Download from {c.channel_name}')\n",
    "        folder_name = c.channel_name\n",
    "        \n",
    "        if recenly :\n",
    "            for URL in c.video_urls[:num_videos]:\n",
    "                URLs.append(URL) \n",
    "        else :\n",
    "            for URL in c.video_urls:\n",
    "                URLs.append(URL)\n",
    "            URLs = URLs[::-1]\n",
    "            URLs = URLs[:num_videos]\n",
    "\n",
    "    type = input('what do you want ?\\n 1. audio only\\n 2. video\\n :')\n",
    "    folder_name = clean_path(folder_name)\n",
    "    PATH = create_dir(folder_name)\n",
    "\n",
    "    if type == '1':\n",
    "        for URL in URLs :\n",
    "            yt, title =input_url(URL)\n",
    "            title = clean_path(title)\n",
    "            stream = yt.streams.get_audio_only()\n",
    "            stream.download(PATH,f'{title}.mp3')\n",
    "            print(f'download {title} successful!! check in folder Youtube_download on your Desktop\\n')\n",
    "            \n",
    "    else :\n",
    "        qt = input('low or high resolution ?\\n 1. low\\n 2. high\\n :')\n",
    "        if qt == '1':\n",
    "            for URL in URLs :\n",
    "                yt, title =input_url(URL)\n",
    "                title = clean_path(title)\n",
    "                stream = yt.streams.get_lowest_resolution()\n",
    "                stream.download(PATH,f'{title}.mp4')\n",
    "                print(f'download {title} successfully!! check in folder Youtube_download on your Desktop\\n')\n",
    "        else :\n",
    "            for URL in URLs :\n",
    "                yt, title =input_url(URL)\n",
    "                title = clean_path(title)\n",
    "                stream = yt.streams.get_highest_resolution()\n",
    "                stream.download(PATH,f'{title}.mp4')\n",
    "                print(f'download {title} successfully!! check in folder Youtube_download on your Desktop\\n')\n",
    "    \n",
    "    print(f'!!Download all files from {folder_name} sucessfully')\n",
    "    "
   ]
  },
  {
   "cell_type": "markdown",
   "metadata": {},
   "source": [
    "### USE APP HERE !!"
   ]
  },
  {
   "cell_type": "code",
   "execution_count": 472,
   "metadata": {},
   "outputs": [
    {
     "name": "stdout",
     "output_type": "stream",
     "text": [
      "!Download : Initial D nascar\n",
      "\n",
      "which quality you want? (select only one)\n",
      "> choice of audio only\n",
      " 1. abr = 48kbps\n",
      " 2. abr = 128kbps\n",
      " 3. abr = 50kbps\n",
      " 4. abr = 70kbps\n",
      " 5. abr = 160kbps\n",
      "\n",
      "downloading.. Initial D nascar\n",
      "download Initial D nascar successfully!! check in folder Youtube_download on your Desktop\n"
     ]
    }
   ],
   "source": [
    "single_video_download('https://www.youtube.com/watch?v=0hBsNxWfC74')"
   ]
  },
  {
   "cell_type": "code",
   "execution_count": 469,
   "metadata": {},
   "outputs": [
    {
     "name": "stdout",
     "output_type": "stream",
     "text": [
      "!Download from Ed Sheeran\n",
      "!Download : Ed Sheeran - 2steppin in a Cork dressing room\n",
      "download Ed Sheeran - 2steppin in a Cork dressing room successful!! check in folder Youtube_download on your Desktop\n",
      "\n",
      "!Download : Ed Sheeran - 2step (feat. Lil Baby) - [Official Behind The Scenes Video]\n",
      "download Ed Sheeran - 2step (feat. Lil Baby) - [Official Behind The Scenes Video] successful!! check in folder Youtube_download on your Desktop\n",
      "\n",
      "!Download : Ed Sheeran - 2step (feat. Lil Baby) - [Official Video]\n",
      "download Ed Sheeran - 2step (feat. Lil Baby) - [Official Video] successful!! check in folder Youtube_download on your Desktop\n",
      "\n"
     ]
    }
   ],
   "source": [
    "multi_video_download('https://www.youtube.com/c/EdSheeran/videos',num_videos=3,recenly=True)"
   ]
  }
 ],
 "metadata": {
  "interpreter": {
   "hash": "63e79917a05e390872358bfb73c58bc903ada01d2d04077091749088207d82cf"
  },
  "kernelspec": {
   "display_name": "Python 3.10.0 64-bit",
   "language": "python",
   "name": "python3"
  },
  "language_info": {
   "codemirror_mode": {
    "name": "ipython",
    "version": 3
   },
   "file_extension": ".py",
   "mimetype": "text/x-python",
   "name": "python",
   "nbconvert_exporter": "python",
   "pygments_lexer": "ipython3",
   "version": "3.10.0"
  },
  "orig_nbformat": 4
 },
 "nbformat": 4,
 "nbformat_minor": 2
}
